{
 "cells": [
  {
   "cell_type": "markdown",
   "metadata": {},
   "source": [
    "# Snail and well\n",
    "\n",
    "A snail falls at the bottom of a 125 cm well. Each day the snail rises 30 cm. But at night, while sleeping, slides 20 cm because the walls are wet. How many days does it take to escape from the well?\n",
    "\n",
    "TIP: http://puzzles.nigelcoldwell.co.uk/sixtytwo.htm"
   ]
  },
  {
   "cell_type": "markdown",
   "metadata": {},
   "source": [
    "## Solución"
   ]
  },
  {
   "cell_type": "code",
   "execution_count": 7,
   "metadata": {},
   "outputs": [
    {
     "name": "stdout",
     "output_type": "stream",
     "text": [
      "Days =  11\n"
     ]
    }
   ],
   "source": [
    "# Assign problem data to variables with representative names\n",
    "# well height, daily advance, night retreat, accumulated distance\n",
    "\n",
    "# in centimeters\n",
    "\n",
    "well_height = 125\n",
    "daily_advance = 30\n",
    "night_retreat = 20\n",
    "accumulated_distance = 0\n",
    "\n",
    "# Assign 0 to the variable that represents the solution\n",
    "\n",
    "days = 0\n",
    "\n",
    "# Write the code that solves the problem\n",
    "\n",
    "while accumulated_distance != well_height:\n",
    "    accumulated_distance += daily_advance\n",
    "    days += 1\n",
    "    if accumulated_distance < well_height:\n",
    "        accumulated_distance -= night_retreat\n",
    "    else:\n",
    "        break\n",
    "\n",
    "# Print the result with print('Days =', days)\n",
    "\n",
    "print(\"Days = \", days)"
   ]
  },
  {
   "cell_type": "markdown",
   "metadata": {},
   "source": [
    "## Goals\n",
    "\n",
    "1. Treatment of variables\n",
    "2. Use of loop **while**\n",
    "3. Use of conditional **if-else**\n",
    "4. Print in console"
   ]
  },
  {
   "cell_type": "markdown",
   "metadata": {},
   "source": [
    "## Bonus\n",
    "The distance traveled by the snail is now defined by a list.\n",
    "```\n",
    "advance_cm = [30, 21, 33, 77, 44, 45, 23, 45, 12, 34, 55]\n",
    "```\n",
    "How long does it take to raise the well?\n",
    "\n",
    "What is its maximum displacement in one day? And its minimum?\n",
    "\n",
    "What is its average speed during the day?\n",
    "\n",
    "What is the standard deviation of its displacement during the day?"
   ]
  },
  {
   "cell_type": "code",
   "execution_count": 1,
   "metadata": {
    "scrolled": false
   },
   "outputs": [
    {
     "name": "stdout",
     "output_type": "stream",
     "text": [
      "Number of days to raise the well:  6\n",
      "Maximum displacement =  57 \n",
      "Minimum displacement =  1\n",
      "Average daily speed =  2.54  cm/h =  2.6e-05  km/h\n",
      "Average speed during the day =  1.71  cm/h =  1.7e-05  km/h\n"
     ]
    }
   ],
   "source": [
    "# How long does it take to raise the well?\n",
    "\n",
    "advance_cm = [30, 21, 33, 77, 44, 45, 23, 45, 12, 34, 55]\n",
    "well_height = 125\n",
    "night_retreat = 20\n",
    "accumulated_distance = 0\n",
    "days = 0\n",
    "\n",
    "for advance in advance_cm:\n",
    "    days += 1\n",
    "    accumulated_distance += advance\n",
    "    if accumulated_distance > 125:\n",
    "        break\n",
    "    else:\n",
    "        accumulated_distance -= night_retreat\n",
    "\n",
    "print(\"Number of days to raise the well: \", days)\n",
    "\n",
    "\n",
    "\n",
    "# What is its maximum displacement in a day? And its minimum?\n",
    "\n",
    "displacement_cm = []\n",
    "\n",
    "for advance in advance_cm:\n",
    "    displacement_cm.append(advance - night_retreat)\n",
    "\n",
    "\n",
    "print(\"Maximum displacement = \", max(displacement_cm[:6]), \"\\n\"\n",
    "     \"Minimum displacement = \", min(displacement_cm[:6]))\n",
    "\n",
    "\n",
    "# What is its average speed**?\n",
    "\n",
    "\"\"\"\n",
    "Unsure of whether to solve for speed(advancement + night_retreat) or velocity(displacement)\n",
    "\"\"\"\n",
    "\n",
    "average_progress = sum([advance + night_retreat for advance in advance_cm[:6]]) / len(advance_cm[:6]) \n",
    "\n",
    "print(\"Average daily speed = \", round(int(average_progress) / 24, 2), \" cm/h = \", \n",
    "      round((average_progress * 4.1667e-7), 6), \" km/h\")\n",
    "\n",
    "# Average speed during the day\n",
    "\n",
    "day_speed = sum(advance_cm[:6]) / len(advance_cm[:6]) \n",
    "\n",
    "print(\"Average speed during the day = \", round(int(day_speed) / 24, 2), \" cm/h = \", \n",
    "      round((day_speed * 4.1667e-7), 6), \" km/h\")\n",
    "\n",
    "\n",
    "\n",
    "\n",
    "\n",
    "\n"
   ]
  },
  {
   "cell_type": "markdown",
   "metadata": {},
   "source": [
    "## Variance\n",
    "\n",
    "$$\\sigma^2 = \\frac{1}{N}\\sum_{i = 1}^{N} (x_i -\\mu)^2$$\n",
    "\n",
    "## Standard Deviation\n",
    "\n",
    "$$\\sigma = \\sqrt\\sigma^2 = \\sqrt{\\frac{1}{N}\\sum_{i = 1}^{N} (x_i -\\mu)^2}$$"
   ]
  },
  {
   "cell_type": "code",
   "execution_count": 22,
   "metadata": {},
   "outputs": [
    {
     "name": "stdout",
     "output_type": "stream",
     "text": [
      "Standard deviation of displacement during the day: \n",
      " 19.51\n"
     ]
    }
   ],
   "source": [
    "# What is the standard deviation of your displacement during the day?\n",
    "\n",
    "\"\"\"\n",
    "not sure if displacement during the day refers to advancement during the day or daily displacement\n",
    "\"\"\"\n",
    "\n",
    "mean = sum(displacement_cm[:6]) / len(displacement_cm[:6])\n",
    "variance = sum([(displacement - mean) ** 2 for displacement in displacement_cm[:6]]) / (len(displacement_cm[:6]) - 1)\n",
    "std_dev = variance ** 0.5\n",
    "print(\"Standard deviation of displacement during the day: \\n\", round(std_dev, 2))"
   ]
  },
  {
   "cell_type": "code",
   "execution_count": null,
   "metadata": {},
   "outputs": [],
   "source": []
  }
 ],
 "metadata": {
  "kernelspec": {
   "display_name": "Python 3",
   "language": "python",
   "name": "python3"
  },
  "language_info": {
   "codemirror_mode": {
    "name": "ipython",
    "version": 3
   },
   "file_extension": ".py",
   "mimetype": "text/x-python",
   "name": "python",
   "nbconvert_exporter": "python",
   "pygments_lexer": "ipython3",
   "version": "3.7.0"
  }
 },
 "nbformat": 4,
 "nbformat_minor": 2
}
