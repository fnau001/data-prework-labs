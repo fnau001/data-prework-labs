{
 "cells": [
  {
   "cell_type": "markdown",
   "metadata": {},
   "source": [
    "# Robin Hood:\n",
    "We are in a competition to win the archery contest in Sherwood. With our bow and arrows we shoot on a target and try to hit as close as possible to the center.\n",
    "\n",
    "The center of the target is represented by the values (0, 0) on the coordinate axes.\n",
    "\n",
    "![](images/arrows.jpg)\n",
    "\n",
    "## Goals:\n",
    "* data structures: lists, sets, tuples\n",
    "* logical operators: if-elif-else\n",
    "* loop: while/for\n",
    "* minimum (optional sorting)\n",
    "\n",
    "## Description:\n",
    "In the 2-dimensional space, a point can be defined by a pair of values that correspond to the horizontal coordinate (x) and the vertical coordinate (y). The space can be divided into 4 zones (quadrants): Q1, Q2, Q3, Q4. Whose single point of union is the point (0, 0).\n",
    "\n",
    "If a point is in Q1 both its x coordinate and the y are positive. I leave a link to wikipedia to familiarize yourself with these quadrants.\n",
    "\n",
    "https://en.wikipedia.org/wiki/Cartesian_coordinate_system\n",
    "\n",
    "https://en.wikipedia.org/wiki/Euclidean_distance\n",
    "\n",
    "## Shots\n",
    "```\n",
    "points = [(4, 5), (-0, 2), (4, 7), (1, -3), (3, -2), (4, 5),\n",
    "          (3, 2), (5, 7), (-5, 7), (2, 2), (-4, 5), (0, -2),\n",
    "          (-4, 7), (-1, 3), (-3, 2), (-4, -5), (-3, 2),\n",
    "          (5, 7), (5, 7), (2, 2), (9, 9), (-8, -9)]\n",
    "```\n",
    "\n",
    "## Tasks\n",
    "1. Robin Hood is famous for hitting an arrow with another arrow. Did you get it?\n",
    "2. Calculate how many arrows have fallen in each quadrant.\n",
    "3. Find the point closest to the center. Calculate its distance to the center. \n",
    "4. If the target has a radius of 9, calculate the number of arrows that must be picked up in the forest."
   ]
  },
  {
   "cell_type": "code",
   "execution_count": 32,
   "metadata": {},
   "outputs": [
    {
     "name": "stdout",
     "output_type": "stream",
     "text": [
      "Points where an arrow lands on another arrow:  (4, 5) (5, 7) \n",
      "\n",
      "Quadrant  1  contains  10  arrows.\n",
      "\n",
      "Quadrant  2  contains  6  arrows.\n",
      "\n",
      "Quadrant  3  contains  2  arrows.\n",
      "\n",
      "Quadrant  4  contains  4  arrows.\n",
      "\n"
     ]
    }
   ],
   "source": [
    "# Variables\n",
    "\n",
    "points = [(4, 5), (-0, 2), (4, 7), (1, -3), (3, -2), (4, 5),\n",
    "          (3, 2), (5, 7), (-5, 7), (2, 2), (-4, 5), (0, -2),\n",
    "          (-4, 7), (-1, 3), (-3, 2), (-4, -5), (-3, 2),\n",
    "          (5, 7), (5, 7), (2, 2), (9, 9), (-8, -9)]\n",
    "\n",
    "# 1. Robin Hood is famous for hitting an arrow with another arrow. Did you get it?\n",
    "\n",
    "counts = [points.count(point) for point in points]\n",
    "robin_hood_points = {points[counts.index(count)] for count in counts if count > 1}\n",
    "\n",
    "\n",
    "print(\"Points where an arrow lands on another arrow: \", *robin_hood_points, '\\n')\n",
    "\n",
    "# 2. Calculate how many arrows have fallen in each quadrant.\n",
    "\n",
    "arrowsPerQuadrant = [0, 0, 0, 0]\n",
    "\n",
    "for arrow in points:\n",
    "    if arrow[0] > 0 and arrow[1] > 0:\n",
    "        arrowsPerQuadrant[0] += 1\n",
    "    elif arrow[0] < 0 and arrow[1] > 0:\n",
    "        arrowsPerQuadrant[1] += 1\n",
    "    elif arrow[0] < 0 and arrow[1] < 0:\n",
    "        arrowsPerQuadrant[2] += 1\n",
    "    else:\n",
    "        arrowsPerQuadrant[3] += 1\n",
    "\n",
    "for i in range(4):\n",
    "    print(\"Quadrant \", i + 1, \" contains \", arrowsPerQuadrant[i], \" arrows.\\n\")"
   ]
  },
  {
   "cell_type": "code",
   "execution_count": 16,
   "metadata": {},
   "outputs": [
    {
     "name": "stdout",
     "output_type": "stream",
     "text": [
      "The point closest to the center is  (0, 2)  with a distance of  2.0\n"
     ]
    }
   ],
   "source": [
    "# 3. Find the point closest to the center. Calculate its distance to the center\n",
    "# Defining a function that calculates the distance to the center can help.\n",
    "\n",
    "def distance(p, q):\n",
    "    \"\"\"Returns the Euclidean distance between points p and q\"\"\"\n",
    "    return (((p[0] - q[0]) ** 2) + ((p[1] - q[1]) ** 2)) ** 0.5\n",
    "\n",
    "# find the point closest to the center\n",
    "\n",
    "center = (0, 0)\n",
    "dists_from_center = []\n",
    "\n",
    "for point in points:\n",
    "    dists_from_center.append(distance(point, center))\n",
    "\n",
    "# store point closest to the center\n",
    "\n",
    "shortest_dist = min(dists_from_center)\n",
    "\n",
    "closest_point = points[dists_from_center.index(shortest_dist)]\n",
    "\n",
    "print(\"The point closest to the center is \", closest_point, \" with a distance of \", shortest_dist)\n",
    "\n"
   ]
  },
  {
   "cell_type": "code",
   "execution_count": 22,
   "metadata": {},
   "outputs": [
    {
     "name": "stdout",
     "output_type": "stream",
     "text": [
      "Number of arrows that must be picked up in the forest:  2\n"
     ]
    }
   ],
   "source": [
    "# 4. If the target has a radius of 9, calculate the number of arrows that \n",
    "# must be picked up in the forest.\n",
    "\n",
    "forest_arrows = [dist for dist in dists_from_center if dist > 9]\n",
    "\n",
    "print(\"Number of arrows that must be picked up in the forest: \", len(forest_arrows))\n",
    "\n"
   ]
  },
  {
   "cell_type": "code",
   "execution_count": null,
   "metadata": {},
   "outputs": [],
   "source": []
  }
 ],
 "metadata": {
  "kernelspec": {
   "display_name": "Python 3",
   "language": "python",
   "name": "python3"
  },
  "language_info": {
   "codemirror_mode": {
    "name": "ipython",
    "version": 3
   },
   "file_extension": ".py",
   "mimetype": "text/x-python",
   "name": "python",
   "nbconvert_exporter": "python",
   "pygments_lexer": "ipython3",
   "version": "3.7.0"
  }
 },
 "nbformat": 4,
 "nbformat_minor": 2
}
