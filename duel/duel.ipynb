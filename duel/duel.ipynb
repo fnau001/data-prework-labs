{
 "cells": [
  {
   "cell_type": "markdown",
   "metadata": {},
   "source": [
    "# Duel of sorcerers\n",
    "You are witnessing an epic battle between two powerful sorcerers: Gandalf and Saruman. Each sorcerer has 10 spells of variable power in their mind and they are going to throw them one after the other. The winner of the duel will be the one who wins more of those clashes between spells. Spells are represented as a list of 10 integers whose value equals the power of the spell.\n",
    "```\n",
    "gandalf = [10, 11, 13, 30, 22, 11, 10, 33, 22, 22]\n",
    "saruman = [23, 66, 12, 43, 12, 10, 44, 23, 12, 17]\n",
    "```\n",
    "For example:\n",
    "1. The first clash is won by Saruman: 10 against 23, wins 23\n",
    "2. The second clash wins Saruman: 11 against 66, wins 66\n",
    "3. etc.\n",
    "\n",
    "\n",
    "You will create two variables, one for each sorcerer, where the sum of clashes won will be stored. Depending on which variable is greater at the end of the duel, you will show one of the following three results on the screen:\n",
    "* Gandalf wins\n",
    "* Saruman wins\n",
    "* Tie\n",
    "\n",
    "<img src=\"images/content_lightning_bolt_big.jpg\" width=\"400\">"
   ]
  },
  {
   "cell_type": "markdown",
   "metadata": {},
   "source": [
    "## Solution"
   ]
  },
  {
   "cell_type": "code",
   "execution_count": 23,
   "metadata": {},
   "outputs": [
    {
     "name": "stdout",
     "output_type": "stream",
     "text": [
      "Gandalf Wins\n"
     ]
    }
   ],
   "source": [
    "# Assign spell power lists to variables\n",
    "\n",
    "gandalf = [10, 11, 13, 30, 22, 11, 10, 33, 22, 22]\n",
    "saruman = [23, 66, 12, 43, 12, 10, 44, 23, 12, 17]\n",
    "\n",
    "# Assign 0 to each variable that stores the victories\n",
    "\n",
    "gandalf_wins = 0\n",
    "saruman_wins = 0\n",
    "draws = 0\n",
    "\n",
    "scores = len(gandalf)\n",
    "\n",
    "# Execution of spell clashes\n",
    "\n",
    "for score in range(scores):\n",
    "    if gandalf[score] > saruman[score]:\n",
    "        gandalf_wins += 1\n",
    "    elif saruman[score] > gandalf[score]:\n",
    "        saruman_wins += 1\n",
    "    else:\n",
    "        draws += 1\n",
    "\n",
    "RESULTS = {\n",
    "    gandalf_wins: \"Gandalf Wins\", \n",
    "    saruman_wins: \"Saruman Wins\",\n",
    "    draws: \"Tie\"\n",
    "}\n",
    "\n",
    "# We check who has won, do not forget the possibility of a draw.\n",
    "\n",
    "# Print the result based on the winner.\n",
    "\n",
    "print(results.get(max(results.keys())))\n",
    "\n",
    "\n",
    "\n"
   ]
  },
  {
   "cell_type": "markdown",
   "metadata": {},
   "source": [
    "## Goals\n",
    "\n",
    "1. Treatment of lists\n",
    "2. Use of **for loop**\n",
    "3. Use of conditional **if-elif-else**\n",
    "4. Use of the functions **range(), len()**\n",
    "5. Print"
   ]
  },
  {
   "cell_type": "markdown",
   "metadata": {},
   "source": [
    "## Bonus\n",
    "\n",
    "1. Spells now have a name and there is a dictionary that relates that name to a power.\n",
    "2. A sorcerer wins if he succeeds in winning 3 spell clashes in a row.\n",
    "3. Average of each of the spell lists.\n",
    "4. Standard deviation of each of the spell lists.\n",
    "\n",
    "```\n",
    "POWER = {\n",
    "    'Fireball': 50, \n",
    "    'Lightning bolt': 40, \n",
    "    'Magic arrow': 10, \n",
    "    'Black Tentacles': 25, \n",
    "    'Contagion': 45\n",
    "}\n",
    "\n",
    "gandalf = ['Fireball', 'Lightning bolt', 'Lightning bolt', 'Magic arrow', 'Fireball', \n",
    "           'Magic arrow', 'Lightning bolt', 'Fireball', 'Fireball', 'Fireball']\n",
    "saruman = ['Contagion', 'Contagion', 'Black Tentacles', 'Fireball', 'Black Tentacles', \n",
    "           'Lightning bolt', 'Magic arrow', 'Contagion', 'Magic arrow', 'Magic arrow']\n",
    "```\n",
    "\n",
    "Good luck!"
   ]
  },
  {
   "cell_type": "code",
   "execution_count": 35,
   "metadata": {},
   "outputs": [
    {
     "name": "stdout",
     "output_type": "stream",
     "text": [
      "Gandalf wins! \n",
      "\n",
      "Average power for each of the spell lists: \n",
      "\n",
      " Gandalf:  39.0 \n",
      " Saruman:  30.5\n",
      "\n",
      " Standard deviation of spell list for  Gandalf:  15.13 \n",
      "\n",
      "\n",
      " Standard deviation of spell list for  Saruman:  15.56 \n",
      "\n"
     ]
    }
   ],
   "source": [
    "# 1. Spells now have a name and there is a dictionary that relates that name to a power.\n",
    "# variables\n",
    "\n",
    "POWER = {\n",
    "    'Fireball': 50, \n",
    "    'Lightning bolt': 40, \n",
    "    'Magic arrow': 10, \n",
    "    'Black Tentacles': 25, \n",
    "    'Contagion': 45\n",
    "}\n",
    "\n",
    "# Assign spell power lists to variables\n",
    "\n",
    "gandalf = ['Fireball', 'Lightning bolt', 'Lightning bolt', 'Magic arrow', 'Fireball', \n",
    "           'Magic arrow', 'Lightning bolt', 'Fireball', 'Fireball', 'Fireball'] # changed entry 'Magic arrow' to 'Fireball'\n",
    "                                                                                # to match prompt provided above\n",
    "\n",
    "saruman = ['Contagion', 'Contagion', 'Black Tentacles', 'Fireball', 'Black Tentacles', \n",
    "           'Lightning bolt', 'Magic arrow', 'Contagion', 'Magic arrow', 'Magic arrow']\n",
    "\n",
    "\n",
    "# 2. A sorcerer wins if he succeeds in winning 3 spell clashes in a row.\n",
    "\n",
    "\n",
    "# Execution of spell clashes\n",
    "\n",
    "gandalf_streak = 0\n",
    "saruman_streak = 0\n",
    "\n",
    "# check for 3 wins in a row\n",
    "\n",
    "# check the winner\n",
    "\n",
    "for gandalf_spell, saruman_spell in zip(gandalf, saruman):\n",
    "    if POWER.get(gandalf_spell) > POWER.get(saruman_spell) and gandalf_streak < 3:\n",
    "        gandalf_streak += 1\n",
    "        saruman_streak = 0\n",
    "    elif POWER.get(saruman_spell) > POWER.get(gandalf_spell) and saruman_streak < 3:\n",
    "        saruman_streak += 1\n",
    "        gandalf_streak = 0\n",
    "    else:\n",
    "        x = \"Gandalf wins!\" if  gandalf_streak == 3 and saruman_streak != 3 else \"Saruman wins!\"\n",
    "        print(x, \"\\n\") \n",
    "        \n",
    "\n",
    "\n",
    "# 3. Average of each of the spell lists.\n",
    "\n",
    "gandalfPower = []\n",
    "sarumanPower = []\n",
    "\n",
    "for index in range(len(gandalf)):\n",
    "    gandalfPower.append(POWER.get(gandalf[index]))\n",
    "    sarumanPower.append(POWER.get(saruman[index]))\n",
    "    \n",
    "gandalfAverage = sum(gandalfPower) / len(gandalfPower)\n",
    "sarumanAverage = sum(sarumanPower) / len(sarumanPower)\n",
    "\n",
    "print(\"Average power for each of the spell lists: \\n\\n\", \n",
    "      \"Gandalf: \", gandalfAverage, \"\\n\",\n",
    "      \"Saruman: \", sarumanAverage)\n",
    "\n",
    "# 4. Standard deviation of each of the spell lists.\n",
    "\n",
    "def std_dev(values, mu):\n",
    "    variance = 0\n",
    "    for value in values:\n",
    "        variance += (value - mu)**2\n",
    "    result = round(((variance / len(values))**0.5), 2)\n",
    "    x = \"Gandalf: \" if values == gandalfPower else \"Saruman: \"\n",
    "    print(\"\\n\", \"Standard deviation of spell list for \", x, result, \"\\n\")\n",
    "\n",
    "std_dev(gandalfPower, gandalfAverage)\n",
    "std_dev(sarumanPower, sarumanAverage)\n"
   ]
  },
  {
   "cell_type": "code",
   "execution_count": null,
   "metadata": {},
   "outputs": [],
   "source": []
  }
 ],
 "metadata": {
  "kernelspec": {
   "display_name": "Python 3",
   "language": "python",
   "name": "python3"
  },
  "language_info": {
   "codemirror_mode": {
    "name": "ipython",
    "version": 3
   },
   "file_extension": ".py",
   "mimetype": "text/x-python",
   "name": "python",
   "nbconvert_exporter": "python",
   "pygments_lexer": "ipython3",
   "version": "3.7.0"
  }
 },
 "nbformat": 4,
 "nbformat_minor": 2
}
